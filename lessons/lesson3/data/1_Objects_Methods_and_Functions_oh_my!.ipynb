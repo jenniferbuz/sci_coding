{
 "cells": [
  {
   "cell_type": "markdown",
   "metadata": {},
   "source": [
    "# Objects\n",
    "Just about everything we write or interact with in Python is an **object**. We already know how to make **String** objects, and today we will learn to make **List** and **Dictionary** objects. Str, List and Dict are all examples of **classes** of objects, and each class has specific properties and a type of data that it can store.\n",
    "\n",
    "The **String** class is defined to store a sequence of charaters in a specific order. We can check the class of an object using the `type()` function."
   ]
  },
  {
   "cell_type": "code",
   "execution_count": null,
   "metadata": {},
   "outputs": [],
   "source": [
    "type('Hi, my name is...')"
   ]
  },
  {
   "cell_type": "code",
   "execution_count": null,
   "metadata": {},
   "outputs": [],
   "source": [
    "introduction = 'Hi, my name is...'\n",
    "type(introduction)"
   ]
  },
  {
   "cell_type": "code",
   "execution_count": null,
   "metadata": {},
   "outputs": [],
   "source": [
    "# Recall that we can index str type objects\n",
    "introduction[0:3]"
   ]
  },
  {
   "cell_type": "markdown",
   "metadata": {},
   "source": [
    "## Object-oriented \n",
    "Object-oriented programming (OOP) is a design philosophy of certain programming languages, Python included. Objects are convenient ways to think about and organize data while we are programming. We will take a short detour to understand the power of object-oriented programming by making some example **classes**."
   ]
  },
  {
   "cell_type": "markdown",
   "metadata": {},
   "source": [
    "## Designing solar systems\n",
    "Say we want to represent (simple) solar systems in our code in an object-oriented way. Which solar system objects can we think about using?\n",
    "\n",
    "### Hard-coded approach\n",
    "If we start from the perspective of our solar system, we may start with a `Sun` object, and then add a `Mercury`, `Venus`, `Earth`, and `Mars` object. But this doesn't generalize well any other solar system. Instead, we can think of what **classes** of objects all solar systems have in common.\n",
    "\n",
    "### Hard-coded approach (with classes)\n",
    "All solar systems should have a star, so let's start with the `Star` class. Then we might have a `Planet` class for all of our planet objects. But there might also be things called `DwarfPlanets` so we should have a class for that too. But our inner planets are quite different from the outer planets so maybe we should actually split `Planet` into the `TerrestrialPlanet` and `JovianPlanet` classes. But now how do we make it clear that `TerrestrialPlanet` and `JovianPlanet` are planets, but `DwarfPlanet` is not? *Ahhhhhhh*. \n",
    "\n",
    "Let's try once more. The object-oriented way.\n",
    "\n",
    "### Object-oriented approach (with inheritance)\n",
    "One of the critical features of an object oriented programming language is the ability to make a hierarchy of objects which are related to each other in some way. Say we start with the one thing all large objects in a solar system have in common: *being round*.\n",
    "```Python\n",
    "class CelestialOrb:\n",
    "    \"\"\"A solar system object large enough to be rounded by its own gravity.\"\"\"\n",
    "    def isround(self):\n",
    "        return True\n",
    "```\n",
    "\n",
    "We don't actually call any specific object in the sky a \"celestial orb\", but this class can help us organize our other classes which all have the *isround* property. Now we can make a **subclass** of CelestialOrb, that automatically **inherits** the *isround* property, but then adds its own distinguishing feature. Let's again start with the `Star` class.\n",
    "```Python\n",
    "# Star inherits from CelestialOrb, meaning it automatically gets the isround() method.\n",
    "class Star(CelestialOrb):\n",
    "    \"\"\"The central star of a solar system.\"\"\"\n",
    "    # We don't need to define isround because it was inherited\n",
    "    def has_fusion(self):\n",
    "        return True\n",
    "```\n",
    "\n",
    "Now let's add a `Planet` class. This class does not have fusion, so it would not make sense to subclass `Star`. Since it is round, we can once again subclass `CelestialOrb`. There is *no limit to how many subclasses a class can have*.\n",
    "\n",
    "```Python\n",
    "# Planet inherits from CelestialOrb\n",
    "class Planet(CelestialOrb):\n",
    "    \"\"\"A CelestialOrb which orbits the Star and clears its orbit.\"\"\"\n",
    "    def in_orbit_around(self):\n",
    "        return self.star\n",
    "    \n",
    "    def clears_orbit(self):\n",
    "        return True\n",
    "```\n",
    "\n",
    "Now let's add `DwarfPlanets`. Since dwarf planets are not technically planets because they do not clear their orbit, we once again subclass `CelestialOrb`.\n",
    "\n",
    "```Python\n",
    "# DwarfPlanet inherits from CelestialOrb\n",
    "class DwarfPlanet(CelestialOrb):\n",
    "    \"\"\"A CelestialOrb which orbits the Star and does not clear its orbit.\"\"\"\n",
    "    def in_orbit_around(self):\n",
    "        return self.star\n",
    "    \n",
    "    def clears_orbit(self):\n",
    "        return False\n",
    "```\n",
    "\n",
    "If we wanted to distinguish between Jovian and terrestrial planets, we can subclass again! We would want to keep all of the features of Planet (`isround, in_orbit_around, clears_orbit`), so this time we subclass `Planet`.\n",
    "\n",
    "```Python\n",
    "# TerrestrialPlanet inherits from Planet\n",
    "class TerrestrialPlanet(Planet):\n",
    "    \"\"\"A Planet which has a solid surface.\"\"\"\n",
    "    def has_solid_surface(self):\n",
    "        return True\n",
    "\n",
    "# JovianPlanet inherits from Planet\n",
    "class JovianPlanet(Planet):\n",
    "    \"\"\"A Planet which does not have a solid surface.\"\"\"\n",
    "    def has_solid_surface(self):\n",
    "        return False\n",
    "```\n",
    "\n",
    "Now we can make our solar system out of our classes, but these classes are *flexible* enough to be used on other solar systems as well.\n",
    "\n",
    "```Python\n",
    "Sun = Star()\n",
    "Mercury = TerrestrialPlanet(Sun)\n",
    "Venus = TerrestrialPlanet(Sun)\n",
    "Earth = TerrestrialPlanet(Sun)\n",
    "Mars = TerrestrialPlanet(Sun)\n",
    "Ceres = DwarfPlanet(Sun)\n",
    "Jupiter = JovianPlanet(Sun)\n",
    "Saturn = JovianPlanet(Sun)\n",
    "Uranus = JovianPlanet(Sun)\n",
    "Neptune = JovianPlanet(Sun)\n",
    "Pluto = DwarfPlanet(Sun)\n",
    "\n",
    "print(Sun.isround(), Mercury.isround(), Ceres.isround(), Jupiter.isround())\n",
    "# True True True True\n",
    "\n",
    "print(Sun.has_fusion())\n",
    "# True\n",
    "\n",
    "print(Mercury.in_orbit_around(), Ceres.in_orbit_around(), Jupiter.in_orbit_around())\n",
    "# sun sun sun\n",
    "\n",
    "print(Mercury.clears_orbit(), Ceres.clears_orbit(), Jupiter.clears_orbit())\n",
    "# True False True\n",
    "\n",
    "print(Mercury.has_solid_surface(), Jupiter.has_solid_surface())\n",
    "# True False\n",
    "```\n",
    "\n",
    "The powerful thing about object-oriented design is that it is *extensible*. After you have written your object-oriented solar system code and we decide to add moon classes, we can always return to our code and add a `Moon` subclass without disrupting anything else about our model.\n",
    "\n",
    "Try to think about what a `Moon` subclass would look like in this picture. What would it inherit from, what would be distinguishing features about it? Without worrying much about the syntax, try to fill in the blanks below."
   ]
  },
  {
   "cell_type": "code",
   "execution_count": null,
   "metadata": {},
   "outputs": [],
   "source": [
    "class Moon(____):\n",
    "    \"\"\"____ \"\"\"\n",
    "    def in_orbit_around(self):\n",
    "        return self.____   "
   ]
  },
  {
   "cell_type": "markdown",
   "metadata": {},
   "source": [
    "# Methods\n",
    "Classes have special functions defined only for their own members called class methods, or simply **methods**. Methods are called on an object by following that object with `.methodname()`. We saw methods like `.isround()` in action above. Built-in classes like `str` have methods too!"
   ]
  },
  {
   "cell_type": "code",
   "execution_count": null,
   "metadata": {},
   "outputs": [],
   "source": [
    "# The upper() method changes all characters in a string to uppercase\n",
    "introduction = 'Hi, my name is...'\n",
    "introduction.upper()"
   ]
  },
  {
   "cell_type": "code",
   "execution_count": null,
   "metadata": {},
   "outputs": [],
   "source": [
    "# The isdigit() method checks if all characters in a string are digits\n",
    "'12345'.isdigit()"
   ]
  },
  {
   "cell_type": "markdown",
   "metadata": {},
   "source": [
    "Using the `help()` function on a class shows all methods available to instances of that class. The `__methods__` are private methods used internally by Python. Skip down to `capitalize(...)` to see the methods available to us."
   ]
  },
  {
   "cell_type": "code",
   "execution_count": null,
   "metadata": {},
   "outputs": [],
   "source": [
    "help(str)"
   ]
  },
  {
   "cell_type": "code",
   "execution_count": null,
   "metadata": {},
   "outputs": [],
   "source": [
    "# The capitalize method capitalizes the fist letter of the str\n",
    "'united states'.capitalize()"
   ]
  },
  {
   "cell_type": "markdown",
   "metadata": {},
   "source": [
    "# Functions\n",
    "Functions are like methods but are independent of a specific class. Any objects that they act on must be passed in as arguments. Let's break down the anatomy of a function.\n",
    "\n",
    "```Python\n",
    "def funcname(arg1, arg2):\n",
    "    \"\"\"Docstring\"\"\"\n",
    "    # Do stuff here\n",
    "    return output\n",
    "```\n",
    "\n",
    "All functions start with a `def` or **define** statement, followed by the name of the function and a list of arguments in parentheses. \n",
    "\n",
    "Below the `def` statement is the **docstring** in triple quotes `\"\"\" \"\"\"`. Docstrings are important for humans (including you) who need to read / use your code. The docstring explains what the function does, what arguments the function needs to work properly, and can even suggest example usage. The docsting is what is shown when you call `help(funcname)` on your function.\n",
    "\n",
    "As we saw with the if blocks, Python uses indentation to organize code. All code indented in the function definition will be run when the function is called. \n",
    "\n",
    "Finally, if your function produces an output, it must be **returned** with a `return` statement. This signals the end of the function. Python will pick up where it left off before running the function.\n",
    "\n",
    "Let's work through an example. Say we encounter the following function `stuff()`. We may not know what it does initially if we don't know where it is defined. Let's try calling `help()`."
   ]
  },
  {
   "cell_type": "code",
   "execution_count": null,
   "metadata": {},
   "outputs": [],
   "source": [
    "def stuff(a):\n",
    "    return a**2\n",
    "help(stuff)"
   ]
  },
  {
   "cell_type": "markdown",
   "metadata": {},
   "source": [
    "Hmm. Not very descriptive. And the name of the function is not exactly helpful. I guess we need to try some examples to figure it out."
   ]
  },
  {
   "cell_type": "code",
   "execution_count": null,
   "metadata": {},
   "outputs": [],
   "source": [
    "stuff('hello?')"
   ]
  },
  {
   "cell_type": "markdown",
   "metadata": {},
   "source": [
    "Well it didn't like the `str`, so let's try an `int` instead."
   ]
  },
  {
   "cell_type": "code",
   "execution_count": null,
   "metadata": {},
   "outputs": [],
   "source": [
    "stuff(1)"
   ]
  },
  {
   "cell_type": "markdown",
   "metadata": {},
   "source": [
    "Now we're getting somewhere, maybe `stuff` returns the number it is given!"
   ]
  },
  {
   "cell_type": "code",
   "execution_count": null,
   "metadata": {},
   "outputs": [],
   "source": [
    "stuff(2)"
   ]
  },
  {
   "cell_type": "markdown",
   "metadata": {},
   "source": [
    "There goes that idea. But this looks like it could be pattern."
   ]
  },
  {
   "cell_type": "code",
   "execution_count": null,
   "metadata": {},
   "outputs": [],
   "source": [
    "print(stuff(1),stuff(2),stuff(3),stuff(4),stuff(5))"
   ]
  },
  {
   "cell_type": "markdown",
   "metadata": {},
   "source": [
    "Cool it looks like `stuff` takes the square of the number it is given! Now to do the same trial and error with the function `allxsonthelistorunderbutnotboth(x1, x2, x3, x4, x5, x6, list1, list2)`. Uhh...\n",
    "\n",
    "That was an example of writing a function with poor *style*. The function worked as intended, but was frustrating to use if you didn't remember what `stuff()` did. I hope this highlights the importance of readable code. Python comes built-in with features like the **docstring** to avoid situations like the one above. Python won't force you to use docstrings, but it is highly encouraged to get into the habit, especially if you are working with others. And if not for others, do it for future you who won't remember what `stuff()` is in 6 months.\n",
    "\n",
    "So how do we improve our `stuff()` function for squaring numbers? The first step is giving it a self-evident name, e.g. `square(num)`. Next, we can add a docstring with a description `\"\"\"Return the square of num\"\"\"`. Finally, we can describe the parameters, return values and provide a couple examples of how to use it. Altogether, it might look like this."
   ]
  },
  {
   "cell_type": "code",
   "execution_count": null,
   "metadata": {},
   "outputs": [],
   "source": [
    "def square(num):\n",
    "    \"\"\"Return the square of num.\n",
    "    \n",
    "    Parameters\n",
    "    ----------\n",
    "    num: int, float\n",
    "        The number to square.\n",
    "        \n",
    "    Returns\n",
    "    -------\n",
    "    int, float\n",
    "        The square of num.\n",
    "        \n",
    "    Examples\n",
    "    --------\n",
    "    >>> square(2)\n",
    "    4\n",
    "    >>> square(2.5)\n",
    "    6.25\n",
    "    \"\"\"\n",
    "    return num**2"
   ]
  },
  {
   "cell_type": "markdown",
   "metadata": {},
   "source": [
    "Say we encounter `square()` in the wild and want to know how to use it. Now we can call `help(square)` and see a nicely formatted docstring."
   ]
  },
  {
   "cell_type": "code",
   "execution_count": null,
   "metadata": {},
   "outputs": [],
   "source": [
    "help(square)"
   ]
  },
  {
   "cell_type": "markdown",
   "metadata": {},
   "source": [
    "We can even try the examples it provides to ensure the function is working properly."
   ]
  },
  {
   "cell_type": "code",
   "execution_count": null,
   "metadata": {},
   "outputs": [],
   "source": [
    "print(square(2), square(2.5))"
   ]
  },
  {
   "cell_type": "markdown",
   "metadata": {},
   "source": [
    "Much less frustrating! \n",
    "\n",
    "*Style* is an aspect of writing code that is often overlooked in sciences. Just like writing good `git commit` messages, it is very important to write code in a way that future you and future collaborators will be able to read and use.\n",
    "\n",
    "Another aspect of style is knowing when to break your code down into functions that perform small tasks. This is one of the hardest, but most useful programming skills to master. If you can define function(s) for complex / repetitive code and give those functions good names and good docstrings, you are on your way to writing readable, re-usable code!\n",
    "\n",
    "Your turn!"
   ]
  },
  {
   "cell_type": "markdown",
   "metadata": {},
   "source": [
    "## Breaking code down into functions\n",
    "The following example is long and repetitive. See if you can define functions to shorten and simplify the code, and get the same result.\n",
    "\n",
    "In this example, we want to see if 3 people like apples, oranges, and are above the age of 20. The data is formatted as such:\n",
    "\n",
    "person = 'likesapples likesoranges age'\n",
    "```Python\n",
    "person1 = 'yes yes 13'\n",
    "person2 = 'yes nah 21'\n",
    "person3 = 'nah nah 80'\n",
    "```\n",
    "\n",
    "We want to `print('It's a match!')` if all 3 people like apples and oranges and are older than 20. Otherwise, `print('It's not a match!')`."
   ]
  },
  {
   "cell_type": "code",
   "execution_count": null,
   "metadata": {},
   "outputs": [],
   "source": [
    "person1 = 'yes yes 42'\n",
    "person2 = 'yes yes 64'\n",
    "person3 = 'yes yes 80'\n",
    "\n",
    "# Uncomment these three for an example of not a match\n",
    "# person1 = 'yes yes 13'\n",
    "# person2 = 'yes nah 21'\n",
    "# person3 = 'nah nah 80'\n",
    "\n",
    "if person1[0:3] == 'yes' and person1[4:7] == 'yes' and int(person1[8:]) > 20:\n",
    "    if person2[0:3] == 'yes' and person2[4:7] == 'yes' and int(person2[8:]) > 20:\n",
    "        if person3[0:3] == 'yes' and person3[4:7] == 'yes' and int(person3[8:]) > 20:\n",
    "            print(\"It's a match!\")\n",
    "        else:\n",
    "            print(\"It's not a match!\")\n",
    "    else:\n",
    "        print(\"It's not a match!\")\n",
    "else:\n",
    "    print(\"It's not a match!\")"
   ]
  },
  {
   "cell_type": "code",
   "execution_count": null,
   "metadata": {},
   "outputs": [],
   "source": [
    "# Put your function version of the above code here\n",
    "# Don't forget the docstrings!\n",
    "\n",
    "\n"
   ]
  },
  {
   "cell_type": "markdown",
   "metadata": {},
   "source": [
    "There are many possible ways to break up code into functions. How specific you make your functions depends on your particular use case. If you want to see my solution, you can copy and paste it from [here](https://github.com/cjtu/sci_coding/tree/master/lessons/lesson3/data/function_solution.py) and compare with yours!\n",
    "\n",
    "\n",
    "Great job! You made it to the end of the crash course on objects, methods and functions (oh my). Next, we will be working with `Lists and Tuples`."
   ]
  }
 ],
 "metadata": {
  "kernelspec": {
   "display_name": "Python 3",
   "language": "python",
   "name": "python3"
  },
  "language_info": {
   "codemirror_mode": {
    "name": "ipython",
    "version": 3
   },
   "file_extension": ".py",
   "mimetype": "text/x-python",
   "name": "python",
   "nbconvert_exporter": "python",
   "pygments_lexer": "ipython3",
   "version": "3.6.5"
  }
 },
 "nbformat": 4,
 "nbformat_minor": 2
}
