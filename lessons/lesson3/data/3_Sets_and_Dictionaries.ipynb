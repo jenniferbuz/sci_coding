{
 "cells": [
  {
   "cell_type": "markdown",
   "metadata": {},
   "source": [
    "# Sets and Dictionaries\n",
    "The dictionary is a very useful and common built-in class in Python. The dictionary *does not preserve order* and *cannot be indexed*. To understand this concept, let's first play with the `set` class.\n",
    "\n",
    "## Sets\n",
    "The `set` in Python is like a mathematical set. It will only keep *one of each unique element* and will not preserve the order that elements were added. We can convert a `list` to a `set` to see how this works in action"
   ]
  },
  {
   "cell_type": "code",
   "execution_count": null,
   "metadata": {},
   "outputs": [],
   "source": [
    "# A shoe stores sells shoes of the following sizes on a certain day\n",
    "shoe_sizes = [7, 8, 9, 6, 7, 7, 9, 7, 8, 10, 13, 7, 6]\n",
    "\n",
    "# We can investigate how many of each shoe was sold with count\n",
    "print(shoe_sizes.count(6),\n",
    "      shoe_sizes.count(7),\n",
    "      shoe_sizes.count(8),\n",
    "      shoe_sizes.count(9),\n",
    "      shoe_sizes.count(10),\n",
    "      shoe_sizes.count(13))"
   ]
  },
  {
   "cell_type": "markdown",
   "metadata": {},
   "source": [
    "We can probably without too much trouble that the 6 sizes we chose to print above were all of the shoes sold on that day. But let's say we were looking at sales of a much larger shoe company. We can convert out list to a set to see what the unique values are."
   ]
  },
  {
   "cell_type": "code",
   "execution_count": null,
   "metadata": {},
   "outputs": [],
   "source": [
    "shoe_sizes = [7, 8, 9, 6, 7, 7, 9, 7, 8, 10, 13, 7, 6, 7, 8, 9, 6, 7, \n",
    "              7, 9, 7, 8, 10, 13, 7, 6, 7, 8, 9, 6, 7, 7, 9, 7, 14, 5,\n",
    "              8, 10, 13, 7, 6, 7, 8, 9, 6, 7, 7, 9, 7, 8, 10, 13, 7, 6,\n",
    "              7, 8, 9, 6, 7, 7, 9, 7, 8, 10, 13, 7, 6, 7, 8, 9, 6, 7, 7, \n",
    "              9, 7, 8, 10, 13, 7, 6]\n",
    "shoe_set = set(shoe_sizes)\n",
    "shoe_set"
   ]
  },
  {
   "cell_type": "markdown",
   "metadata": {},
   "source": [
    "This `shoe_set` shows the 8 sizes that were sold that day. What else can we do with this set? You know how to find out!"
   ]
  },
  {
   "cell_type": "code",
   "execution_count": null,
   "metadata": {},
   "outputs": [],
   "source": [
    "help(set)"
   ]
  },
  {
   "cell_type": "markdown",
   "metadata": {},
   "source": [
    "From a quick skim of the set docstring, we can see it supports `add(...)` and `pop(...)` like the list, meaning it must be *mutable*. We might want to try to index the set like a `list`."
   ]
  },
  {
   "cell_type": "code",
   "execution_count": null,
   "metadata": {},
   "outputs": [],
   "source": [
    "shoe_set[0]"
   ]
  },
  {
   "cell_type": "markdown",
   "metadata": {},
   "source": [
    "We cannot index sets because they preserve no order. There were some set operations in the methods we could try like `union()` and `intersection()`. \n",
    "\n",
    "Note: sets in Python are defined with curly braces `{}`."
   ]
  },
  {
   "cell_type": "code",
   "execution_count": null,
   "metadata": {},
   "outputs": [],
   "source": [
    "monday_shoe_set = {5, 6, 7, 8, 9, 10, 13, 14}\n",
    "tuesday_shoe_set = {6, 8, 10, 11, 12, 14}\n",
    "type(monday_shoe_set)"
   ]
  },
  {
   "cell_type": "code",
   "execution_count": null,
   "metadata": {},
   "outputs": [],
   "source": [
    "total_shoe_sizes = monday_shoe_set.union(tuesday_shoe_set)\n",
    "monday_unique = monday_shoe_set.difference(tuesday_shoe_set)\n",
    "print(\"Total sizes sold:\", total_shoe_sizes,\n",
    "      \"\\nSizes sold only on Monday:\", one_day)"
   ]
  },
  {
   "cell_type": "markdown",
   "metadata": {},
   "source": [
    "## Dictionaries\n",
    "The dictionary is *unordered* like the set, and so it cannot be indexed. What dictionaries do instead is store **key-value** pairs of data. This is a very flexible and extremely efficient data structure to use for large amounts of data that are updated frequently.\n",
    "\n",
    "Note: dictionaries are also defined with `{}` curly braces, but take a **key** and a **value** separated by a colon `:`."
   ]
  },
  {
   "cell_type": "code",
   "execution_count": null,
   "metadata": {},
   "outputs": [],
   "source": [
    "# Postition of letters in the alphabet\n",
    "alpha_dict = {'a':1, 'b':2, 'c':3, 'd':4, 'e':7}\n",
    "type(alpha_dict)"
   ]
  },
  {
   "cell_type": "markdown",
   "metadata": {},
   "source": [
    "To access a *value* in a dict, you must supply the *key*."
   ]
  },
  {
   "cell_type": "code",
   "execution_count": null,
   "metadata": {},
   "outputs": [],
   "source": [
    "alpha_dict['a']"
   ]
  },
  {
   "cell_type": "code",
   "execution_count": null,
   "metadata": {},
   "outputs": [],
   "source": [
    "alpha_dict['d']"
   ]
  },
  {
   "cell_type": "raw",
   "metadata": {},
   "source": [
    "Dictionaries are mutable so we can adjust a value for a given key."
   ]
  },
  {
   "cell_type": "code",
   "execution_count": null,
   "metadata": {},
   "outputs": [],
   "source": [
    "alpha_dict['e'] = 5\n",
    "alpha_dict['e']"
   ]
  },
  {
   "cell_type": "markdown",
   "metadata": {},
   "source": [
    "The `dict` makes no assumption about the types of its keys and values. Only that the **keys** must be *unique*. If you try to add another element to a key in a dictionary, it will be overwritten."
   ]
  },
  {
   "cell_type": "markdown",
   "metadata": {},
   "source": [
    "### Dictionary Practice"
   ]
  },
  {
   "cell_type": "code",
   "execution_count": null,
   "metadata": {},
   "outputs": [],
   "source": [
    "# Dict of day of the week to shoe sizes sold\n",
    "shoe_dict = {'Monday' : [7, 8, 9, 6, 7, 7, 9, 7, 8],\n",
    "             'Tuesday' : [7, 6, 7, 8, 9, 6, 7, 7, 9], \n",
    "             'Wednesday' : [6, 7, 7, 9],\n",
    "             'Thursday' : [7, 7, 6, 7, 9, 8, 6, 7, 13],\n",
    "             'Friday' : [13, 7, 6, 7, 8, 9, 6, 7, 7],\n",
    "             'Saturday' : [7, 7, 9, 7, 8, 10],\n",
    "             'Sunday': [7, 7, 9, 7, 8, 10]}\n",
    "shoe_dict['Thursday']"
   ]
  },
  {
   "cell_type": "code",
   "execution_count": null,
   "metadata": {},
   "outputs": [],
   "source": [
    "# return True if all of the same shoe shoe sizes and number of each were sold on saturday and sunday\n",
    "# in the same order\n",
    "\n"
   ]
  },
  {
   "cell_type": "code",
   "execution_count": null,
   "metadata": {},
   "outputs": [],
   "source": [
    "# return True if all of the same shoe sizes (regardless of number) were sold on monday and tuesday\n",
    "# hint: compare two sets\n",
    "\n"
   ]
  },
  {
   "cell_type": "code",
   "execution_count": null,
   "metadata": {},
   "outputs": [],
   "source": [
    "# return True if all of the same shoe sizes and number of each were sold on thursday and friday\n",
    "# regarless of the order they were sold in\n",
    "# hint: compare two sorted lists\n",
    "\n"
   ]
  }
 ],
 "metadata": {
  "kernelspec": {
   "display_name": "Python 3",
   "language": "python",
   "name": "python3"
  },
  "language_info": {
   "codemirror_mode": {
    "name": "ipython",
    "version": 3
   },
   "file_extension": ".py",
   "mimetype": "text/x-python",
   "name": "python",
   "nbconvert_exporter": "python",
   "pygments_lexer": "ipython3",
   "version": "3.6.5"
  }
 },
 "nbformat": 4,
 "nbformat_minor": 2
}
