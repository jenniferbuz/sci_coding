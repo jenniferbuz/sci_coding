{
 "cells": [
  {
   "cell_type": "markdown",
   "metadata": {},
   "source": [
    "# This is a Jupyter Notebook"
   ]
  },
  {
   "cell_type": "markdown",
   "metadata": {},
   "source": [
    "Jupyter Notebooks consist of **cells** that contain either text or Python code. \n",
    "\n",
    "This is a `Markdown` cell. It supports basic text formatting with Markdown and is mostly used to descibe the code that preceeds or follows it."
   ]
  },
  {
   "cell_type": "code",
   "execution_count": 1,
   "metadata": {},
   "outputs": [
    {
     "name": "stdout",
     "output_type": "stream",
     "text": [
      "Hello World\n"
     ]
    }
   ],
   "source": [
    "# This is a Python cell.\n",
    "# Any outputs of code written here will appear directly below.\n",
    "print('Hello World')"
   ]
  },
  {
   "cell_type": "markdown",
   "metadata": {},
   "source": [
    "## Running cells\n",
    "To run a cell, you click the cell to select it, and then click the `>| Run` button above. Try it on the block below."
   ]
  },
  {
   "cell_type": "code",
   "execution_count": null,
   "metadata": {},
   "outputs": [],
   "source": [
    "print(\"You can run me by selecting me and clicking Run\")"
   ]
  },
  {
   "cell_type": "markdown",
   "metadata": {},
   "source": [
    "## Making new cells\n",
    "You can make a new cell by clicking the `+` \"insert cell below\" button in the toolbar above. Choose between `code` and `markdown` cells from the dropdown menu in the toolbar. The default is `code`.\n",
    "\n",
    "Try adding a Markdown text block below. Write something surrounded by asterisks (e.g. `**wow**`) and then click `>| Run` to render the cell."
   ]
  },
  {
   "cell_type": "markdown",
   "metadata": {},
   "source": [
    "## Cool plots\n",
    "Jupyter notebooks also let you display cool plots inline. Don't worry about the code, just try running the following code block."
   ]
  },
  {
   "cell_type": "code",
   "execution_count": null,
   "metadata": {},
   "outputs": [],
   "source": [
    "import seaborn as sns\n",
    "import matplotlib.pyplot as plt\n",
    "\n",
    "sns.set(style=\"darkgrid\")\n",
    "iris = sns.load_dataset(\"iris\")\n",
    "\n",
    "# Subset the iris dataset by species\n",
    "setosa = iris.query(\"species == 'setosa'\")\n",
    "virginica = iris.query(\"species == 'virginica'\")\n",
    "\n",
    "# Set up the figure\n",
    "f, ax = plt.subplots(figsize=(8, 8))\n",
    "ax.set_aspect(\"equal\")\n",
    "\n",
    "# Draw the two density plots\n",
    "ax = sns.kdeplot(setosa.sepal_width, setosa.sepal_length,\n",
    "                 cmap=\"Reds\", shade=True, shade_lowest=False)\n",
    "ax = sns.kdeplot(virginica.sepal_width, virginica.sepal_length,\n",
    "                 cmap=\"Blues\", shade=True, shade_lowest=False)\n",
    "\n",
    "# Add labels to the plot\n",
    "red = sns.color_palette(\"Reds\")[-2]\n",
    "blue = sns.color_palette(\"Blues\")[-2]\n",
    "ax.text(2.5, 8.2, \"virginica\", size=16, color=blue)\n",
    "ax.text(3.8, 4.5, \"setosa\", size=16, color=red)"
   ]
  },
  {
   "cell_type": "markdown",
   "metadata": {},
   "source": [
    "## Editing blocks\n",
    "You can edit any block by double clicking it to enter edit mode. Double click me to edit!"
   ]
  },
  {
   "cell_type": "markdown",
   "metadata": {},
   "source": [
    "## Other options\n",
    "Note some other buttons on the toolbar above:\n",
    "- save: Saves the notebook. Your notebook will also autosave every few minutes.\n",
    "- cut, copy, and paste: Duplicate or move cells.\n",
    "- stop, refresh, fast-forward: These stop, restart and re-run the **kernel**.\n",
    "\n",
    "Underlying the Jupyter notebook is an **IPython** kernel which is interpreting the code and rendering the pretty graphics. Sometimes this kernel gets bogged down or crashes and needs to be restarted. Try clicking the fast-forward button (restart kernel and re-run notebook). This will clear all outputs and rerun the notebook from the top down."
   ]
  }
 ],
 "metadata": {
  "kernelspec": {
   "display_name": "Python 3",
   "language": "python",
   "name": "python3"
  },
  "language_info": {
   "codemirror_mode": {
    "name": "ipython",
    "version": 3
   },
   "file_extension": ".py",
   "mimetype": "text/x-python",
   "name": "python",
   "nbconvert_exporter": "python",
   "pygments_lexer": "ipython3",
   "version": "3.6.5"
  }
 },
 "nbformat": 4,
 "nbformat_minor": 2
}
