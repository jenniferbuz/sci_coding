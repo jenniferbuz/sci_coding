{
 "cells": [
  {
   "cell_type": "markdown",
   "metadata": {},
   "source": [
    "# Lesson 2\n",
    "If you are viewing this on GitHub, you can head to mybinder.org to interact with it [here](https://mybinder.org/v2/gh/cjtu/sci_coding/master?filepath=lessons%2Flesson2%2Fdata%2Flesson2.ipynb).\n",
    "\n",
    "In this lesson we will interactively practice writing Python code. Below are the skeletons of various **functions** involving strings, booleans, and control flow. \n",
    "\n",
    "We will cover how to write a **function** in the next lesson. For now, you are tasked with reading the description of each function and changing the indicated line(s) to return the correct output.\n",
    "\n",
    "## Docstrings\n",
    "Each function has a *docstring* (denoted with triple quotes `\"\"\" \"\"\"`). Docstrings tell you what a Python function does and will often provide example inputs and outputs to show you how to use the function. You can check the docstring of any function using `help()`. For example, if we want to know what the built-in `print()` function does, we can type `help(print)`."
   ]
  },
  {
   "cell_type": "code",
   "execution_count": 1,
   "metadata": {},
   "outputs": [
    {
     "name": "stdout",
     "output_type": "stream",
     "text": [
      "Help on built-in function print in module builtins:\n",
      "\n",
      "print(...)\n",
      "    print(value, ..., sep=' ', end='\\n', file=sys.stdout, flush=False)\n",
      "    \n",
      "    Prints the values to a stream, or to sys.stdout by default.\n",
      "    Optional keyword arguments:\n",
      "    file:  a file-like object (stream); defaults to the current sys.stdout.\n",
      "    sep:   string inserted between values, default a space.\n",
      "    end:   string appended after the last value, default a newline.\n",
      "    flush: whether to forcibly flush the stream.\n",
      "\n"
     ]
    }
   ],
   "source": [
    "help(print)"
   ]
  },
  {
   "cell_type": "markdown",
   "metadata": {},
   "source": [
    "## Doctest\n",
    "To test your work, we will use the `doctest` module. Doctest automatically runs all of the examples in the docstring and lets you know if your code fails to produces the correct output (if there is no output, it means your code passed the tests!). Make sure to import the module by running the `import doctest` block below. Once you have fixed each function, you can run its cell to check that the examples produce the correct outputs."
   ]
  },
  {
   "cell_type": "code",
   "execution_count": null,
   "metadata": {},
   "outputs": [],
   "source": [
    "import doctest"
   ]
  },
  {
   "cell_type": "markdown",
   "metadata": {},
   "source": [
    "## Strings\n",
    "In Python, the **string** is used to store text. Strings can be created with either single quotes `''` or double quotes `\"\"`. Although both work, it is good practice to choose one or the other and stick with it for consistency."
   ]
  },
  {
   "cell_type": "code",
   "execution_count": null,
   "metadata": {},
   "outputs": [],
   "source": [
    "def get_hello_world():\n",
    "    \"\"\"Return the string 'Hello World'.\n",
    "    \n",
    "    >>> get_hello_world()\n",
    "    'Hello World'\n",
    "    \"\"\"\n",
    "    output = 'Goodbye World' # Fix this line\n",
    "    return output\n",
    "\n",
    "# Run doctest\n",
    "doctest.run_docstring_examples(get_hello_world, globals())"
   ]
  },
  {
   "cell_type": "markdown",
   "metadata": {},
   "source": [
    "### Indexing\n",
    "A particular **character** in a string can be accessed by its **index**. Python uses the square brackets `[]` to denote indices.\n",
    "\n",
    "**Note**: Some languages start indexing at 0, and some start at 1. In Python, **indexing starts at 0**.\n",
    "\n",
    "Python also allows you to use **negative indices** to access characters from the end of the string. The forward and backwards indices are summarized in image below:\n",
    "\n",
    "![indexing](./indexing.png)"
   ]
  },
  {
   "cell_type": "code",
   "execution_count": null,
   "metadata": {},
   "outputs": [],
   "source": [
    "def get_first_char(input_str):\n",
    "    \"\"\"Return the first character of input_str.\n",
    "    \n",
    "    >>> get_first_char('abc')\n",
    "    'a'\n",
    "    >>> get_first_char('123')\n",
    "    '1'\n",
    "    >>> get_first_char('z')\n",
    "    'z'\n",
    "    \"\"\"\n",
    "    output = input_str # Fix this line\n",
    "    return output\n",
    "\n",
    "# Run doctest\n",
    "doctest.run_docstring_examples(get_first_char, globals())"
   ]
  },
  {
   "cell_type": "code",
   "execution_count": null,
   "metadata": {},
   "outputs": [],
   "source": [
    "def get_last_char(input_str):\n",
    "    \"\"\"Return the last character of input_str.\n",
    "    \n",
    "    >>> get_last_char('abc')\n",
    "    'c'\n",
    "    >>> get_last_char('123')\n",
    "    '3'\n",
    "    >>> get_last_char('z')\n",
    "    'z'\n",
    "    \"\"\"\n",
    "    output = input_str # Fix this line\n",
    "    return output\n",
    "\n",
    "# Run doctest\n",
    "doctest.run_docstring_examples(get_last_char, globals())"
   ]
  },
  {
   "cell_type": "code",
   "execution_count": null,
   "metadata": {},
   "outputs": [],
   "source": [
    "def get_third_last_char(input_str):\n",
    "    \"\"\"Return the third from last character of input_str.\n",
    "    \n",
    "    >>> get_third_last_char('abcde')\n",
    "    'c'\n",
    "    >>> get_third_last_char('123456')\n",
    "    '4'\n",
    "    >>> get_third_last_char('pomegranate')\n",
    "    'a'\n",
    "    \"\"\"\n",
    "    output = input_str # Fix this line\n",
    "    return output\n",
    "\n",
    "# Run doctest\n",
    "doctest.run_docstring_examples(get_third_last_char, globals())"
   ]
  },
  {
   "cell_type": "markdown",
   "metadata": {},
   "source": [
    "### Slicing\n",
    "You can also extract a range of characters from a string by taking a **slice**. Slicing in Python is again done with square brackets, but this time we need to provide a start index, a stop index, and a colon `string[start:stop]`.\n",
    "\n",
    "**Note**: The stop index in Python is *one higher than the last character you want to slice*. E.g. if you sliced from 0 to 3, you would get the 0th, 1st, and 2nd characters (`'Hello[0:3] == 'Hel'`). The character at index 3 is not included!\n",
    "\n",
    "If you do not provide a start index, Python assumes you want all characters from the beginning of the string to the stop index (`'Hello'[:3] == 'Hel'`). \n",
    "\n",
    "Likewise, if you do not provide a stop index, Python assumes you want all characters from the start index to the end of the string (`'Hello[2:] == 'llo'`).\n",
    "\n",
    "What do you think the slice `'Hello'[:]` produces?"
   ]
  },
  {
   "cell_type": "code",
   "execution_count": null,
   "metadata": {},
   "outputs": [],
   "source": [
    "def slice_second_to_fifth(input_str):\n",
    "    \"\"\"Return the substrng of input_str from the second to the fifth character.\n",
    "    \n",
    "    >>> slice_second_to_fifth('abcdefg')\n",
    "    'bcde'\n",
    "    >>> slice_second_to_fifth('Hello World')\n",
    "    'ello'\n",
    "    >>> slice_second_to_fifth('123456789')\n",
    "    '2345'\n",
    "    \"\"\"\n",
    "    output = input_str # Fix this line\n",
    "    return output\n",
    "\n",
    "# Run doctest\n",
    "doctest.run_docstring_examples(slice_second_to_fifth, globals())"
   ]
  },
  {
   "cell_type": "code",
   "execution_count": null,
   "metadata": {},
   "outputs": [],
   "source": [
    "def slice_first_five(input_str):\n",
    "    \"\"\"Return the first five characters of input_str.\n",
    "    \n",
    "    >>> slice_first_five('abcdefg')\n",
    "    'abcde'\n",
    "    >>> slice_first_five('Hello World')\n",
    "    'Hello'\n",
    "    >>> slice_first_five('123456789')\n",
    "    '12345'\n",
    "    \"\"\"\n",
    "    output = input_str # Fix this line\n",
    "    return output\n",
    "\n",
    "# Run doctest\n",
    "doctest.run_docstring_examples(slice_first_five, globals())"
   ]
  },
  {
   "cell_type": "code",
   "execution_count": null,
   "metadata": {},
   "outputs": [],
   "source": [
    "def slice_last_five(input_str):\n",
    "    \"\"\"Return the last five characters of input_str.\n",
    "    \n",
    "    >>> slice_last_five('abcdefg')\n",
    "    'cdefg'\n",
    "    >>> slice_last_five('Hello World')\n",
    "    'World'\n",
    "    >>> slice_last_five('123456789')\n",
    "    '56789'\n",
    "    \"\"\"\n",
    "    output = input_str # Fix this line\n",
    "    return output\n",
    "\n",
    "# Run doctest\n",
    "doctest.run_docstring_examples(slice_last_five, globals())"
   ]
  },
  {
   "cell_type": "code",
   "execution_count": null,
   "metadata": {},
   "outputs": [],
   "source": [
    "def slice_third_to_second_last(input_str):\n",
    "    \"\"\"Return the substring of input_str from the third to the second last character.\n",
    "    \n",
    "    >>> slice_third_to_second_last('abcdefg')\n",
    "    'cdef'\n",
    "    >>> slice_third_to_second_last('Hello World')\n",
    "    'llo Worl'\n",
    "    >>> slice_third_to_second_last('123456789')\n",
    "    '345678'\n",
    "    \"\"\"\n",
    "    output = input_str # Fix this line\n",
    "    return output\n",
    "\n",
    "# Run doctest\n",
    "doctest.run_docstring_examples(slice_third_to_second_last, globals())"
   ]
  },
  {
   "cell_type": "markdown",
   "metadata": {},
   "source": [
    "## Booleans\n",
    "The **boolean** data structure can only have one of two possible values, `True` and `False`. Booleans can be used to represent any binary data (yes/no, true/false, 0/1) and are used to evaluate the truthiness or falsiness of **if statements**.\n",
    "\n",
    "### If statements\n",
    "If statements allow you to change the execution of your code based on whether or not a condition is met. They consist of a **condition** and a **clause** (if condition is met, then do the stuff in the clause).\n",
    "\n",
    "If statements will often use **comaprison operators** like `==` (is equal to) to determine whether the following code is run.\n",
    "\n",
    "The if statement follows the following form:\n",
    "```Python\n",
    "if 'something' == 'something else':\n",
    "    # this is the clause that is run if the condition is true\n",
    "    # it will run this code\n",
    "    # and everything else indented here\n",
    "# This un-indented code is no longer part of the clause\n",
    "# It runs regardless of whether the if block was run\n",
    "```\n",
    "\n",
    "Try using the equality operator `==` to fix the following function:"
   ]
  },
  {
   "cell_type": "code",
   "execution_count": null,
   "metadata": {},
   "outputs": [],
   "source": [
    "def is_string_abcde(input_str):\n",
    "    \"\"\"Return True if input_str is 'abcde'.\n",
    "    \n",
    "    >>> is_string_abcde('abcde')\n",
    "    True\n",
    "    >>> is_string_abcde('Hello World')\n",
    "    False\n",
    "    >>> is_string_abcde('abc')\n",
    "    False\n",
    "    \"\"\"\n",
    "    if input_str == '': # Fix this line\n",
    "        return True\n",
    "    return False\n",
    "\n",
    "# Run doctest\n",
    "doctest.run_docstring_examples(is_string_abcde, globals())"
   ]
  },
  {
   "cell_type": "markdown",
   "metadata": {},
   "source": [
    "### if, elif, else statements\n",
    "Additional clauses can be added to the if statement to modify its behaviour in other cases. \n",
    "\n",
    "The `elif` statement will run its clause if the previous condition(s) were not met, but this additional condition *is* met.\n",
    "\n",
    "The `else` statement will run its clause if none of the preceeding if and elif statements have their conditions met. The else statement always comes last.\n",
    "\n",
    "You can string together many conditions and clauses into one if, elif, else block:\n",
    "```Python\n",
    "if breed == 'border collie':\n",
    "    size = 'medium'\n",
    "elif breed == 'yorkie':\n",
    "    size = 'tiny'\n",
    "elif breed == 'newfoundland':\n",
    "    size = 'huge'\n",
    "elif breen == 'basset hound':\n",
    "    size = 'small'\n",
    "else:\n",
    "    size = '?'\n",
    "```"
   ]
  },
  {
   "cell_type": "code",
   "execution_count": null,
   "metadata": {},
   "outputs": [],
   "source": [
    "def planet_order(planet_str):\n",
    "    \"\"\"Return the position of planet in order of distance from the Sun.\n",
    "    \n",
    "    >>> planet_order('mercury')\n",
    "    'first'\n",
    "    >>> planet_order('venus')\n",
    "    'second'\n",
    "    >>> planet_order('earth')\n",
    "    'third'\n",
    "    >>> planet_order('mars')\n",
    "    'fourth'\n",
    "    >>> planet_order('jupiter')\n",
    "    'fifth'\n",
    "    >>> planet_order('saturn')\n",
    "    'sixth'\n",
    "    >>> planet_order('uranus')\n",
    "    'seventh'\n",
    "    >>> planet_order('neptune')\n",
    "    'eighth'\n",
    "    >>> planet_order('pluto')\n",
    "    'not a planet'\n",
    "    >>> planet_order('dog')\n",
    "    'not a planet'\n",
    "    \"\"\"\n",
    "    if planet_str == 'mercury':\n",
    "        return 'first'\n",
    "    elif planet_str == '': # Fix this line\n",
    "        return 'second'\n",
    "    elif planet_str == '': # Fix this line\n",
    "        return 'third'\n",
    "    elif planet_str == 'mars':\n",
    "        return '' # Fix this line\n",
    "    elif planet_str == '': # Fix this line\n",
    "        return 'fifth'\n",
    "    elif planet_str == '': \n",
    "        return 'sixth' # Fix this line\n",
    "    elif planet_str == 'uranus':\n",
    "        return 'seventh'\n",
    "    elif planet_str == '': # Fix this line\n",
    "        return 'eighth'\n",
    "    else:\n",
    "        return '' # Fix this line\n",
    "\n",
    "# Run doctest\n",
    "doctest.run_docstring_examples(planet_order, globals())"
   ]
  },
  {
   "cell_type": "markdown",
   "metadata": {},
   "source": [
    "### Integers\n",
    "Like all programming languages, Python is a glorified calculator. This means that integers and math work as you would expect `2 + 2 == 4`. Integers can be assigned to variables `my_var = 4`, and added together `my_var + 2 == 6`. Their values can also be compared with **comparison operators**.\n",
    "\n",
    "### Comparison operators\n",
    "We learned about the `==` comparison operator. More common comparison operators:\n",
    "\n",
    "- ` == `: Equal to \n",
    "- ` != `: Not equal to \n",
    "- ` < `: Less than \n",
    "- ` > `: Greater than \n",
    "- ` <= `: Less than or equal to\n",
    "- ` >= `: Greater than or equal to \n",
    "\n",
    "**Beware!** The equal sign assigns a value to a variable (`mystring = \"Hello World\"`). The double equal sign is a comparison operator used to check if two objects are equal (`\"Hello\" == \"World\"` would return `False`).\n"
   ]
  },
  {
   "cell_type": "code",
   "execution_count": null,
   "metadata": {},
   "outputs": [],
   "source": [
    "def is_big(input_int):\n",
    "    \"\"\"Return True if input_int is larger than 1000.\n",
    "    \n",
    "    >>> is_big(1)\n",
    "    False\n",
    "    >>> is_big(999)\n",
    "    False\n",
    "    >>> is_big(1000)\n",
    "    True\n",
    "    >>> is_big(2000)\n",
    "    True\n",
    "    \"\"\"\n",
    "    if input_int: # Fix this line\n",
    "        return True\n",
    "    else:\n",
    "        return False\n",
    "\n",
    "# Run doctest\n",
    "doctest.run_docstring_examples(is_big, globals())"
   ]
  },
  {
   "cell_type": "code",
   "execution_count": null,
   "metadata": {},
   "outputs": [],
   "source": [
    "def absolute(input_int):\n",
    "    \"\"\"Return the absolute value of input_int. \n",
    "    \n",
    "    >>> absolute(1)\n",
    "    1\n",
    "    >>> absolute(20)\n",
    "    20\n",
    "    >>> absolute(-1)\n",
    "    1\n",
    "    >>> absolute(-12)\n",
    "    12\n",
    "    >>> absolute(0)\n",
    "    0\n",
    "    \"\"\"\n",
    "    if input_int: # Fix this line\n",
    "        return input_int\n",
    "    else:\n",
    "        return -input_int\n",
    "\n",
    "# Run doctest\n",
    "doctest.run_docstring_examples(absolute, globals())"
   ]
  },
  {
   "cell_type": "markdown",
   "metadata": {},
   "source": [
    "### Logical Operators\n",
    "Finally, the **logical operator** is a way of comparing boolean values.\n",
    "\n",
    "- `and`: Return True if both are true\n",
    "- `or`: Return True if at least one is true\n",
    "- `not`: Return True only if false"
   ]
  },
  {
   "cell_type": "code",
   "execution_count": null,
   "metadata": {},
   "outputs": [],
   "source": [
    "def in_one_to_fifty(input_int):\n",
    "    \"\"\"Return True if input_int is between one and fifty, inclusive.\n",
    "\n",
    "    >>> in_one_to_fifty(0)\n",
    "    False\n",
    "    >>> in_one_to_fifty(1)\n",
    "    True\n",
    "    >>> in_one_to_fifty(25)\n",
    "    True\n",
    "    >>> in_one_to_fifty(50)\n",
    "    True\n",
    "    >>> in_one_to_fifty(51)\n",
    "    False\n",
    "    \"\"\"\n",
    "    if input_int and input_int: # Fix this line\n",
    "        return True\n",
    "    else:\n",
    "        return False\n",
    "\n",
    "# Run doctest\n",
    "doctest.run_docstring_examples(in_one_to_fifty, globals())"
   ]
  },
  {
   "cell_type": "markdown",
   "metadata": {},
   "source": [
    "## If doctests_pass(): return \"You made it!\"\n",
    "Great job finishing the intro to strings, booleans, and control flow.\n",
    "\n",
    "You completed a lot of functions today, but next lesson we will learn to write our own functions from scratch. We will also work with two super useful data structures, the `list` and the `dictionary`.\n",
    "\n",
    "The pre-class homework for next week is Codecademy's [Learn-Python](https://www.codecademy.com/learn/learn-python) modules 4 and 5."
   ]
  }
 ],
 "metadata": {
  "kernelspec": {
   "display_name": "Python 3",
   "language": "python",
   "name": "python3"
  },
  "language_info": {
   "codemirror_mode": {
    "name": "ipython",
    "version": 3
   },
   "file_extension": ".py",
   "mimetype": "text/x-python",
   "name": "python",
   "nbconvert_exporter": "python",
   "pygments_lexer": "ipython3",
   "version": "3.6.5"
  }
 },
 "nbformat": 4,
 "nbformat_minor": 2
}
