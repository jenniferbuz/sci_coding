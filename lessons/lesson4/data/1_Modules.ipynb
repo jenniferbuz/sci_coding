{
 "cells": [
  {
   "cell_type": "markdown",
   "metadata": {},
   "source": [
    "# Python Modules and Packages\n",
    "A Python **package** is a collection of software written in Python. Many Python packages are *open-source*, meaning they are developed and released for free online. \n",
    "\n",
    "A package can have one of more **modules** in it. A module is a single Python file, often with functions that you can import and use in your own code as long as you have the package installed.\n",
    "\n",
    "A package that you will encounter often when doing scientific coding with Python is **matplotlib**. This is a plotting *package* that offers a few *modules* for producing publication-grade figures. One of the modules in matplotlib is **pyplot**, and this is the main plotting module we will use in this lesson.\n",
    "\n",
    "## Importing modules\n",
    "\n",
    "To make a module's functions accessible in a script, we need to `import` it. By convention, we write all import statements at the top of our Python programs. \n",
    "\n",
    "If a package has multiple modules, we can specify a single module to import with `import packagename.modulename`. Functions from an imported module can be invoked with a dot `.` after the name of the module they are found in."
   ]
  },
  {
   "cell_type": "code",
   "execution_count": null,
   "metadata": {},
   "outputs": [],
   "source": [
    "#===========================================================\n",
    "# Run this cell ONLY if you are viewing this on mybinder.org\n",
    "import sys\n",
    "!conda install --yes --prefix {sys.prefix} numpy matplotlib\n",
    "#==========================================================="
   ]
  },
  {
   "cell_type": "code",
   "execution_count": null,
   "metadata": {},
   "outputs": [],
   "source": [
    "import matplotlib.pyplot # Imports the pyplot module within the matplotlib package"
   ]
  },
  {
   "cell_type": "code",
   "execution_count": null,
   "metadata": {},
   "outputs": [],
   "source": [
    "x = (0, 1, 2, 3, 4)\n",
    "y = (0, 1, 2, 4, 8)\n",
    "\n",
    "matplotlib.pyplot.plot(x, y) # The plot function in the pyplot module"
   ]
  },
  {
   "cell_type": "markdown",
   "metadata": {},
   "source": [
    "Wow. `matplotlib.pyplot.plot()` is a lot of typing to simply plot a function. Long funtion names can make your code hard to read. Luckily, Python offers two ways to deal with this. Try to think about which of the below examples is better *style*.\n",
    "\n",
    "## Import *\n",
    "The `*` is a wildcard character in Python. If you `import *`, you import every single function and variable in a module. This allows you to skip the `package.module.function()` and simply call the imported `function()`."
   ]
  },
  {
   "cell_type": "code",
   "execution_count": null,
   "metadata": {},
   "outputs": [],
   "source": [
    "from matplotlib.pyplot import * # Import everything from matplotlib.pyplot"
   ]
  },
  {
   "cell_type": "code",
   "execution_count": null,
   "metadata": {},
   "outputs": [],
   "source": [
    "plot(x, y) # The imported plot() function from matplotlib.pyplot"
   ]
  },
  {
   "cell_type": "markdown",
   "metadata": {},
   "source": [
    "## Import as \n",
    "Python also allows you to set up shorthand notation (an *alias*) to refer to a package or module. In this case, you write `import package.module as blah`. Now `blah` refers to your imported module and you can call functions with `blah.function()`."
   ]
  },
  {
   "cell_type": "code",
   "execution_count": null,
   "metadata": {},
   "outputs": [],
   "source": [
    "import matplotlib.pyplot as plt # Define the short form plt for matplotlib.pyplot"
   ]
  },
  {
   "cell_type": "code",
   "execution_count": null,
   "metadata": {},
   "outputs": [],
   "source": [
    "plt.plot(x, y) # Now we can write plt.func() instead of matplotlib.pyplot.func()"
   ]
  },
  {
   "cell_type": "markdown",
   "metadata": {},
   "source": [
    "Both types of imports seem to do the same thing, and `import *` made it more convenient to simply type `plot()`. But should we always use `import *`? \n",
    "\n",
    "## Duplicate names\n",
    "Imagine a collaborator wrote a module called `coolplotlib` that nicely plots your data. What happens if you want side-by-side plots of your data, one with `matplotlib`'s `plot` and `coolplotting`'s `plot`?\n",
    "\n",
    "First let's try it with `import as`:"
   ]
  },
  {
   "cell_type": "code",
   "execution_count": null,
   "metadata": {},
   "outputs": [],
   "source": [
    "import matplotlib.pyplot as mplt\n",
    "import coolplotlib as cplt\n",
    "\n",
    "subplot(1, 2, 1) # Set up a side by side plot\n",
    "mplt.plot(x, y)\n",
    "\n",
    "subplot(1, 2, 2) # The second subplot\n",
    "cplt.plot(x, y)"
   ]
  },
  {
   "cell_type": "markdown",
   "metadata": {},
   "source": [
    "Now let's try it with `import *`:"
   ]
  },
  {
   "cell_type": "code",
   "execution_count": null,
   "metadata": {},
   "outputs": [],
   "source": [
    "from matplotlib.pyplot import *\n",
    "from coolplotlib import *\n",
    "plt.subplot(1, 2, 1) \n",
    "plot(x, y)\n",
    "\n",
    "plt.subplot(1, 2, 2) \n",
    "plot(x, y)"
   ]
  },
  {
   "cell_type": "markdown",
   "metadata": {},
   "source": [
    "Whoops. When we `import *`, Python cannot tell the difference between the `plot()` function imported from `matplotlib` the `plot()` function imported from `coolplotlib`. If functions or variables have duplicate names when you `import *`, Python will simply overwrite them without telling you. This can be a sneaky way to introduce bugs into your code. It is also why we import at the top of the code, to avoid accidentally overwriting our own functions and variables part-way through our work.\n",
    "\n",
    "To avoid this problem, it is convention to use the `import as` method so that we always specify the module an external function comes from (using `module.function()`). This convention also makes it clear where your functions are coming from when future you or collaborators want to understand what your code is doing."
   ]
  },
  {
   "cell_type": "markdown",
   "metadata": {},
   "source": [
    "# Numpy\n",
    "Another common package used in science is `numpy`. Short for *numerical Python*, numpy gives us many tools for working with numerical data. \n",
    "\n",
    "## Numpy Array\n",
    "The basis of numpy is the `array`. This is a data structure defined in numpy which is *ordered* and *mutable*. Sounds like a `list`? It's pretty similar, but the requirement that it contains *numbers* allows numpy to offer a host of useful functions for creating and manipulating numpy `arrays`. Let's explore."
   ]
  },
  {
   "cell_type": "code",
   "execution_count": null,
   "metadata": {},
   "outputs": [],
   "source": [
    "import numpy as np # Make a habit of using import as!"
   ]
  },
  {
   "cell_type": "code",
   "execution_count": null,
   "metadata": {},
   "outputs": [],
   "source": [
    "a = [0, 1, 2, 3, 4]\n",
    "b = np.array(a) # Convert a list or tuple to an array with np.array()\n",
    "print(b[0], b[1:4], b[-1]) # Indexing and slicing works the same as with lists\n"
   ]
  },
  {
   "cell_type": "code",
   "execution_count": null,
   "metadata": {},
   "outputs": [],
   "source": [
    "type(b) # Let's figure out the class name to get help"
   ]
  },
  {
   "cell_type": "code",
   "execution_count": null,
   "metadata": {},
   "outputs": [],
   "source": [
    "help(np.ndarray) # The numpy array is of class ndarray so now we can find help"
   ]
  },
  {
   "cell_type": "markdown",
   "metadata": {},
   "source": [
    "Woah. That's a really long help page. Often when you are working with a new package, `help()` won't be the most convenient or easy to read way to get help. Instead, we can search for online *documentation* for the package we are using.\n",
    "\n",
    "If you Google **numpy documentation**, you will see links to info about *numpy* and another package, *scipy*. If you follow the links to **NumPy**, you should find a [NumPy user Guide](https://docs.scipy.org/doc/numpy-1.15.0/user/index.html) and from there, several pages of tutorials and documentation about the package. If we go to the [Quickstart tutorial](https://docs.scipy.org/doc/numpy-1.15.0/user/quickstart.html), we will see a much more legible intro to the package.\n",
    "\n",
    "Sidenote: Google is my most used tool for coding. If you need to learn to use an open source package or have a question about an unexpected output or error message, *Google it*. Chances are, somebody else has had the same question. This is another reason to use an open-source programming language with a ton of other users: *there are millions of pages of help online in the form of documentation and questions on forums*.\n",
    "\n",
    "Let's get back to it. In the tutorial, they offer some **attributes** of the `ndarray`. Attributes are info stored in an instance of a class, and you can see them by typing `object.attribute` (with no parentheses - that would be a *method*)."
   ]
  },
  {
   "cell_type": "code",
   "execution_count": null,
   "metadata": {},
   "outputs": [],
   "source": [
    "# Let's print some attributes of our b array\n",
    "print(\"Num dimensions:\", b.ndim,\n",
    "      \"\\nShape:\", b.shape,\n",
    "      \"\\nSize:\", b.size)"
   ]
  },
  {
   "cell_type": "markdown",
   "metadata": {},
   "source": [
    "If we scroll down to the first example in the quickstart tutorial, we see that they use a function called `arange` to create an array."
   ]
  },
  {
   "cell_type": "code",
   "execution_count": null,
   "metadata": {},
   "outputs": [],
   "source": [
    "np.arange(10)"
   ]
  },
  {
   "cell_type": "code",
   "execution_count": null,
   "metadata": {},
   "outputs": [],
   "source": [
    "help(np.arange)"
   ]
  },
  {
   "cell_type": "markdown",
   "metadata": {},
   "source": [
    "The numpy `arange` function allows us to quickly build integer arrays. It takes `start`, `stop`, and `step` as arguments."
   ]
  },
  {
   "cell_type": "code",
   "execution_count": null,
   "metadata": {},
   "outputs": [],
   "source": [
    "x = np.arange(1, 10)\n",
    "y = np.arange(2, 20, 2)\n",
    "plt.plot(x, y)"
   ]
  },
  {
   "cell_type": "markdown",
   "metadata": {},
   "source": [
    "What happens when we do math on numpy arrays?"
   ]
  },
  {
   "cell_type": "code",
   "execution_count": null,
   "metadata": {},
   "outputs": [],
   "source": [
    "x = np.arange(-50, 50)\n",
    "y = x**2\n",
    "plt.plot(x, y)"
   ]
  },
  {
   "cell_type": "markdown",
   "metadata": {},
   "source": [
    "If we continue down the tutorial, we see another way to make arrays called `linspace`. This allows us to choose the bounds of an interval and the number of points we want to divide it into. Numpy also has useful math constants like `pi` and `e` and math functions like `sin`, `cos`, `tan`."
   ]
  },
  {
   "cell_type": "code",
   "execution_count": null,
   "metadata": {},
   "outputs": [],
   "source": [
    "x = np.linspace(-2*np.pi, 2*np.pi, 100)\n",
    "y = np.sin(x)\n",
    "plt.plot(x, y)"
   ]
  },
  {
   "cell_type": "code",
   "execution_count": null,
   "metadata": {},
   "outputs": [],
   "source": [
    "# Linspace can be useful for smoothing out continuous functions\n",
    "xarange = np.arange(-np.pi, np.pi)\n",
    "yarange = np.cos(xarange)\n",
    "\n",
    "xlinspace = np.linspace(-np.pi, np.pi, 1000)\n",
    "ylinspace = np.cos(xlinspace)\n",
    "\n",
    "plt.subplot(1, 2, 1)\n",
    "plt.plot(xarange, yarange)\n",
    "\n",
    "plt.subplot(1, 2, 2)\n",
    "plt.plot(xlinspace, ylinspace)"
   ]
  },
  {
   "cell_type": "markdown",
   "metadata": {},
   "source": [
    "If we want to plot a bell curve we can use the `np.random` module to randomly sample a normal distribution."
   ]
  },
  {
   "cell_type": "code",
   "execution_count": null,
   "metadata": {},
   "outputs": [],
   "source": [
    "norm = np.random.standard_normal(1000) # Draw 1000 random points from normal distribution\n",
    "hist, bins = np.histogram(norm, density=True) # Make histogram of our samples\n",
    "plt.plot(bins[1:], hist)"
   ]
  },
  {
   "cell_type": "markdown",
   "metadata": {},
   "source": [
    "This is a brief overview of `numpy` and `matplotlib`. This should be a good basis for getting starting manipulating and plotting data in Python. Remember, Google and documentation are your friends!"
   ]
  }
 ],
 "metadata": {
  "kernelspec": {
   "display_name": "Python 3",
   "language": "python",
   "name": "python3"
  },
  "language_info": {
   "codemirror_mode": {
    "name": "ipython",
    "version": 3
   },
   "file_extension": ".py",
   "mimetype": "text/x-python",
   "name": "python",
   "nbconvert_exporter": "python",
   "pygments_lexer": "ipython3",
   "version": "3.6.5"
  }
 },
 "nbformat": 4,
 "nbformat_minor": 2
}
