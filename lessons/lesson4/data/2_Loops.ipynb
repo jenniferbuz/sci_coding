{
 "cells": [
  {
   "cell_type": "markdown",
   "metadata": {},
   "source": [
    "# Loops\n",
    "Loops are useful programming concepts that allow for a block of logic to be repeated multiple times. Python has two types of loops. They can both accomplish the same things, but are used in different scenarios.\n",
    "\n",
    "## For loop\n",
    "A for loop loops through each element in a collection of objects, generally with the intent of doing something to each object. In Python, loops act on an indented block of code, repeating everything in that indent until the end of the collection is reached.\n",
    "\n",
    "A useful built-in function for loops is `range()`. Range makes a sequence of integers from 0 up to the number you supply."
   ]
  },
  {
   "cell_type": "code",
   "execution_count": null,
   "metadata": {},
   "outputs": [],
   "source": [
    "for i in range(10): # Loop through numbers 0 to 9\n",
    "    print(i)"
   ]
  },
  {
   "cell_type": "code",
   "execution_count": null,
   "metadata": {},
   "outputs": [],
   "source": [
    "for i in range(10):\n",
    "    # We can use i in the indented block of our loop\n",
    "    if i < 5:\n",
    "        print(i)"
   ]
  },
  {
   "cell_type": "markdown",
   "metadata": {},
   "source": [
    "The `range()` function is useful for getting a list of indices, hence the convention to use `i` (for index) as the iterator variable. If you supply the length of a list or array, etc to `range()`, you will get each index of that array, one by one."
   ]
  },
  {
   "cell_type": "code",
   "execution_count": null,
   "metadata": {},
   "outputs": [],
   "source": [
    "#===========================================================\n",
    "# Run this cell ONLY if you are viewing this on mybinder.org\n",
    "import sys\n",
    "!conda install --yes --prefix {sys.prefix} numpy\n",
    "#==========================================================="
   ]
  },
  {
   "cell_type": "code",
   "execution_count": null,
   "metadata": {},
   "outputs": [],
   "source": [
    "import numpy as np"
   ]
  },
  {
   "cell_type": "code",
   "execution_count": null,
   "metadata": {},
   "outputs": [],
   "source": [
    "xarr = np.arange(2, 22, 2)\n",
    "yarr = np.sin(xarr)\n",
    "for i in range(len(xarr)):\n",
    "    print(\"Index\", i, \": X =\", xarr[i], \", Y =\", yarr[i])"
   ]
  },
  {
   "cell_type": "markdown",
   "metadata": {},
   "source": [
    "We can also loop directly through the values of a collection by supplying that collection to the **for loop**."
   ]
  },
  {
   "cell_type": "code",
   "execution_count": null,
   "metadata": {},
   "outputs": [],
   "source": [
    "print(\"X values:\")\n",
    "for x in xarr:\n",
    "    print(x)\n",
    "    \n",
    "print(\"\\nY values:\")\n",
    "for y in yarr:\n",
    "    print(y)"
   ]
  },
  {
   "cell_type": "markdown",
   "metadata": {},
   "source": [
    "Sometimes, you wish to loop through the x values but also want to know the indices of those values. To do this, use `enumerate()` to get the index and value in each iteration of the loop."
   ]
  },
  {
   "cell_type": "code",
   "execution_count": null,
   "metadata": {},
   "outputs": [],
   "source": [
    "for i, x in enumerate(xarr):\n",
    "    print(\"Index\", i, \": X =\", x)"
   ]
  },
  {
   "cell_type": "markdown",
   "metadata": {},
   "source": [
    "### Practice\n",
    "Loop through the following array and print `\"positive\"` if the value is above 0, `\"negative\"` if it is below zero, or `\"zero\"` if it is zero."
   ]
  },
  {
   "cell_type": "code",
   "execution_count": null,
   "metadata": {},
   "outputs": [],
   "source": [
    "sine_arr = np.sin(np.linspace(-2*np.pi, 2*np.pi, 30)).round(3)\n",
    "# Write and test your solution here\n",
    "\n"
   ]
  },
  {
   "cell_type": "markdown",
   "metadata": {},
   "source": [
    "## While loops\n",
    "A while loop is used when we want to end the loop on a certain *condition* rather than after a certain number of elements. This is useful when we do not know how many iterations we will need to complete.\n",
    "\n",
    "Say we want to see how many times we can divide a number by 2 before it is less than or equal to 1 (the base 2 log of a number). We don't know how many times we need to divide the number yet, only when we're done dividing. We need to use a while loop!\n",
    "\n",
    "A while loop takes a *condition* in its statement that will cause the loop to stop iterating when it is no longer `True`."
   ]
  },
  {
   "cell_type": "code",
   "execution_count": null,
   "metadata": {},
   "outputs": [],
   "source": [
    "num = 99\n",
    "count = 0\n",
    "while num >= 1:\n",
    "    num = num /2\n",
    "    count += 1\n",
    "print(\"The base 2 log of 99 (rounded up) is\", count)"
   ]
  },
  {
   "cell_type": "markdown",
   "metadata": {},
   "source": [
    "Given the same array as above, write a while loop that stops when the value in the array is less than -0.5 and prints how many iterations it took to get there."
   ]
  },
  {
   "cell_type": "code",
   "execution_count": null,
   "metadata": {},
   "outputs": [],
   "source": [
    "sine_arr = np.sin(np.linspace(-2*np.pi, 2*np.pi, 30)).round(3)\n",
    "# Write and test your solution here\n",
    "\n"
   ]
  }
 ],
 "metadata": {
  "kernelspec": {
   "display_name": "Python 3",
   "language": "python",
   "name": "python3"
  },
  "language_info": {
   "codemirror_mode": {
    "name": "ipython",
    "version": 3
   },
   "file_extension": ".py",
   "mimetype": "text/x-python",
   "name": "python",
   "nbconvert_exporter": "python",
   "pygments_lexer": "ipython3",
   "version": "3.6.5"
  }
 },
 "nbformat": 4,
 "nbformat_minor": 2
}
